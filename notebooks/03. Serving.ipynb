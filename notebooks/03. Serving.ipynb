{
 "cells": [
  {
   "cell_type": "code",
   "execution_count": 0,
   "metadata": {
    "application/vnd.databricks.v1+cell": {
     "cellMetadata": {
      "byteLimit": 2048000,
      "rowLimit": 10000
     },
     "inputWidgets": {},
     "nuid": "5f9dec2b-4d5b-44f9-9d9f-b6f3dd260a54",
     "showTitle": false,
     "tableResultSettingsMap": {},
     "title": ""
    }
   },
   "outputs": [],
   "source": [
    "%pip install databricks-feature-engineering==0.6 databricks-sdk==0.32.0\n",
    "%restart_python"
   ]
  },
  {
   "cell_type": "code",
   "execution_count": 0,
   "metadata": {
    "application/vnd.databricks.v1+cell": {
     "cellMetadata": {
      "byteLimit": 2048000,
      "rowLimit": 10000
     },
     "inputWidgets": {},
     "nuid": "f474105b-a2e2-4a94-a000-b0e7dafbad18",
     "showTitle": false,
     "tableResultSettingsMap": {},
     "title": ""
    }
   },
   "outputs": [],
   "source": [
    "import os\n",
    "\n",
    "from hotel_reservation.config import ProjectConfig\n",
    "from hotel_reservation.serving.fe_model_serving import FeatureLookupServing\n",
    "from hotel_reservation.utils import configure_logging\n",
    "\n",
    "logger = configure_logging(\"Hotel Reservations Deploy Model\")\n",
    "\n",
    "# Load project config\n",
    "config = ProjectConfig.from_yaml(config_path=\"../project_config.yml\")\n",
    "logger.info(\"Configuration loaded\")\n",
    "\n",
    "# Initialize feature store manager\n",
    "feature_serving_manager = FeatureLookupServing(model_name=f'{config.catalog_name}.{config.schema_name}.hotel_reservation_model_fe', endpoint_name='hotel_reservation_endpoint_koen', feature_table_name=f'{config.catalog_name}.{config.schema_name}.hotel_reservation_features')\n"
   ]
  },
  {
   "cell_type": "code",
   "execution_count": 0,
   "metadata": {
    "application/vnd.databricks.v1+cell": {
     "cellMetadata": {
      "byteLimit": 2048000,
      "rowLimit": 10000
     },
     "inputWidgets": {},
     "nuid": "038c5fdc-6018-4ef1-83cf-f2bb9cb427c7",
     "showTitle": false,
     "tableResultSettingsMap": {},
     "title": ""
    }
   },
   "outputs": [],
   "source": [
    "# Create online table\n",
    "feature_serving_manager.create_online_table()\n",
    "\n",
    "# Deploy feature serving endpoint\n",
    "feature_serving_manager.deploy_or_update_serving_endpoint()\n",
    "logger.info(\"Created feature serving endpoint.\")"
   ]
  },
  {
   "cell_type": "code",
   "execution_count": 0,
   "metadata": {
    "application/vnd.databricks.v1+cell": {
     "cellMetadata": {
      "byteLimit": 2048000,
      "rowLimit": 10000
     },
     "inputWidgets": {},
     "nuid": "861b4b3f-4d3e-4fa8-a755-94aa6610f09f",
     "showTitle": false,
     "tableResultSettingsMap": {},
     "title": ""
    }
   },
   "outputs": [],
   "source": [
    "import mlflow\n",
    "from mlflow.models import Model\n",
    "\n",
    "model_uri = 'runs:/621e8115ff434d3da24d6420574c44eb/HistGradientBoostingClassifier-model-fe'\n",
    "# The model is logged with an input example\n",
    "pyfunc_model = mlflow.pyfunc.load_model(model_uri)\n",
    "\n",
    "print(pyfunc_model.metadata.signature.inputs.input_names())"
   ]
  },
  {
   "cell_type": "code",
   "execution_count": 0,
   "metadata": {
    "application/vnd.databricks.v1+cell": {
     "cellMetadata": {
      "byteLimit": 2048000,
      "rowLimit": 10000
     },
     "inputWidgets": {},
     "nuid": "f7ee49ab-1d9f-465f-93ca-a566b3b2d55b",
     "showTitle": false,
     "tableResultSettingsMap": {},
     "title": ""
    }
   },
   "outputs": [],
   "source": [
    "%python\n",
    "# Create a sample request body\n",
    "required_columns = [\n",
    "    'no_of_weekend_nights', 'no_of_week_nights', 'required_car_parking_space', \n",
    "    'lead_time', 'repeated_guest', 'no_of_previous_cancellations', \n",
    "    'no_of_previous_bookings_not_canceled', 'no_of_special_requests', \n",
    "    'Booking_ID', 'market_segment_type_Complementary', \n",
    "    'market_segment_type_Corporate', 'market_segment_type_Offline', \n",
    "    'market_segment_type_Online', 'type_of_meal_plan_Meal_Plan_2', \n",
    "    'room_type_reserved_Room_Type_4', 'room_type_reserved_Room_Type_6', \n",
    "    'room_type_reserved_Room_Type_7', 'quarter_Q2', 'quarter_Q3', 'quarter_Q4', \n",
    "    'no_of_adults', 'no_of_children', 'avg_price_per_room', \n",
    "#     'cancellation_probability'\n",
    "]\n",
    "\n",
    "train_set = spark.table(f\"{config.catalog_name}.{config.schema_name}.train_dataset\").toPandas()\n",
    "# train_set[\"cancellation_probability\"] = (\n",
    "#     train_set[\"no_of_previous_cancellations\"] / train_set[\"no_of_previous_bookings_not_canceled\"]\n",
    "# )\n",
    "# train_set = train_set.fillna(0)\n",
    "# train_set = train_set.replace([float('inf'), float('-inf')], 0)\n",
    "# train_set[\"cancellation_probability\"] = train_set[\"cancellation_probability\"].astype(int)\n",
    "sampled_records = train_set[required_columns].sample(n=1000, replace=True).to_dict(orient=\"split\")\n",
    "\n",
    "# Call the endpoint with one sample record\n",
    "os.environ[\"DBR_TOKEN\"] = dbutils.notebook.entry_point.getDbutils().notebook().getContext().apiToken().get()\n",
    "os.environ[\"DBR_HOST\"] = spark.conf.get(\"spark.databricks.workspaceUrl\")"
   ]
  },
  {
   "cell_type": "code",
   "execution_count": 0,
   "metadata": {
    "application/vnd.databricks.v1+cell": {
     "cellMetadata": {
      "byteLimit": 2048000,
      "rowLimit": 10000
     },
     "inputWidgets": {},
     "nuid": "50733390-1eca-4c34-acd1-65aac51fd35b",
     "showTitle": false,
     "tableResultSettingsMap": {},
     "title": ""
    }
   },
   "outputs": [],
   "source": [
    "status_code, response_text = feature_serving_manager.call_endpoint(sampled_records['data'], columns=sampled_records['columns'])\n",
    "logger.info(f\"Response Status: {status_code}\")\n",
    "logger.info(f\"Response Text: {response_text}\")"
   ]
  }
 ],
 "metadata": {
  "application/vnd.databricks.v1+notebook": {
   "computePreferences": null,
   "dashboards": [],
   "environmentMetadata": {
    "base_environment": "",
    "environment_version": "2"
   },
   "language": "python",
   "notebookMetadata": {
    "pythonIndentUnit": 4
   },
   "notebookName": "03. Serving",
   "widgets": {}
  },
  "language_info": {
   "name": "python"
  }
 },
 "nbformat": 4,
 "nbformat_minor": 0
}
