{
 "cells": [
  {
   "cell_type": "code",
   "execution_count": 0,
   "metadata": {
    "application/vnd.databricks.v1+cell": {
     "cellMetadata": {
      "byteLimit": 2048000,
      "rowLimit": 10000
     },
     "inputWidgets": {},
     "nuid": "5f9dec2b-4d5b-44f9-9d9f-b6f3dd260a54",
     "showTitle": false,
     "tableResultSettingsMap": {},
     "title": ""
    }
   },
   "outputs": [],
   "source": [
    "%pip install databricks-feature-engineering==0.6 databricks-sdk==0.32.0\n",
    "%restart_python"
   ]
  },
  {
   "cell_type": "code",
   "execution_count": 0,
   "metadata": {
    "application/vnd.databricks.v1+cell": {
     "cellMetadata": {
      "byteLimit": 2048000,
      "rowLimit": 10000
     },
     "inputWidgets": {},
     "nuid": "038c5fdc-6018-4ef1-83cf-f2bb9cb427c7",
     "showTitle": false,
     "tableResultSettingsMap": {},
     "title": ""
    }
   },
   "outputs": [],
   "source": [
    "import os\n",
    "\n",
    "from hotel_reservation.config import ProjectConfig\n",
    "from hotel_reservation.serving.fe_model_serving import FeatureLookupServing\n",
    "from hotel_reservation.utils import configure_logging\n",
    "\n",
    "logger = configure_logging(\"Hotel Reservations Deploy Model\")\n",
    "\n",
    "# Load project config\n",
    "config = ProjectConfig.from_yaml(config_path=\"../project_config.yml\")\n",
    "logger.info(\"Configuration loaded\")\n",
    "\n",
    "# Initialize feature store manager\n",
    "feature_serving_manager = FeatureLookupServing(model_name=f'{config.catalog_name}.{config.schema_name}.hotel_reservation_model_fe', endpoint_name='hotel_reservation_endpoint_koen', feature_table_name=f'{config.catalog_name}.{config.schema_name}.hotel_reservation_features')\n",
    "\n",
    "# Create online table\n",
    "feature_serving_manager.create_online_table()\n",
    "\n",
    "# Deploy feature serving endpoint\n",
    "feature_serving_manager.deploy_or_update_serving_endpoint()\n",
    "logger.info(\"Created feature serving endpoint.\")"
   ]
  },
  {
   "cell_type": "code",
   "execution_count": 0,
   "metadata": {
    "application/vnd.databricks.v1+cell": {
     "cellMetadata": {
      "byteLimit": 2048000,
      "rowLimit": 10000
     },
     "inputWidgets": {},
     "nuid": "f7ee49ab-1d9f-465f-93ca-a566b3b2d55b",
     "showTitle": false,
     "tableResultSettingsMap": {},
     "title": ""
    }
   },
   "outputs": [],
   "source": [
    "# COMMAND ----------\n",
    "# Create a sample request body\n",
    "required_columns = config.features_used # + ['Booking_ID']\n",
    "\n",
    "train_set = spark.table(f\"{config.catalog_name}.{config.schema_name}.train_dataset\").toPandas()\n",
    "sampled_records = train_set[required_columns].sample(n=1000, replace=True).to_dict(orient=\"records\")\n",
    "dataframe_records = [[record] for record in sampled_records]\n",
    "\n",
    "# COMMAND ----------\n",
    "# Call the endpoint with one sample record\n",
    "os.environ[\"DBR_TOKEN\"] = dbutils.notebook.entry_point.getDbutils().notebook().getContext().apiToken().get()\n",
    "os.environ[\"DBR_HOST\"] = spark.conf.get(\"spark.databricks.workspaceUrl\")\n",
    "\n",
    "status_code, response_text = feature_serving_manager.call_endpoint([sampled_records[0]])\n",
    "logger.info(f\"Response Status: {status_code}\")\n",
    "logger.info(f\"Response Text: {response_text}\")"
   ]
  }
 ],
 "metadata": {
  "application/vnd.databricks.v1+notebook": {
   "computePreferences": null,
   "dashboards": [],
   "environmentMetadata": {
    "base_environment": "",
    "environment_version": "2"
   },
   "language": "python",
   "notebookMetadata": {
    "pythonIndentUnit": 4
   },
   "notebookName": "03. Serving",
   "widgets": {}
  },
  "language_info": {
   "name": "python"
  }
 },
 "nbformat": 4,
 "nbformat_minor": 0
}
