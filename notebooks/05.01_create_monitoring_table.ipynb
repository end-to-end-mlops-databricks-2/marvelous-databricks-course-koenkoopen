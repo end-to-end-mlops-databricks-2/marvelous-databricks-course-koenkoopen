{
 "cells": [
  {
   "cell_type": "code",
   "execution_count": 0,
   "metadata": {
    "application/vnd.databricks.v1+cell": {
     "cellMetadata": {
      "byteLimit": 2048000,
      "rowLimit": 10000
     },
     "inputWidgets": {},
     "nuid": "7ecd4bbb-2595-4087-988e-9b445f6c3b26",
     "showTitle": false,
     "tableResultSettingsMap": {},
     "title": ""
    }
   },
   "outputs": [],
   "source": [
    "%pip install toml file:/Workspace/Users/koen.koopen@datasciencelab.nl/marvelous-databricks-course-koenkoopen/dist/hotel_reservation-0.2.19-py3-none-any.whl\n",
    "%restart_python"
   ]
  },
  {
   "cell_type": "code",
   "execution_count": 0,
   "metadata": {
    "application/vnd.databricks.v1+cell": {
     "cellMetadata": {
      "byteLimit": 2048000,
      "rowLimit": 10000
     },
     "inputWidgets": {},
     "nuid": "bf5b97a8-0e64-41f8-8396-037d343ef6d2",
     "showTitle": false,
     "tableResultSettingsMap": {},
     "title": ""
    },
    "vscode": {
     "languageId": "plaintext"
    }
   },
   "outputs": [],
   "source": [
    "import time\n",
    "\n",
    "import pandas as pd\n",
    "from pyspark.sql.functions import col\n",
    "from pyspark.sql.functions import current_timestamp, to_utc_timestamp\n",
    "import numpy as np\n",
    "from pyspark.sql import SparkSession\n",
    "\n",
    "from sklearn.ensemble import RandomForestRegressor\n",
    "from sklearn.preprocessing import LabelEncoder\n",
    "\n",
    "from hotel_reservation.config import ProjectConfig\n",
    "\n",
    "spark = SparkSession.builder.getOrCreate()\n",
    "\n",
    "# Load configuration\n",
    "config = ProjectConfig.from_yaml(config_path=\"../project_config.yml\", env=\"dev\")\n",
    "spark = SparkSession.builder.getOrCreate()\n",
    "\n",
    "train_set = spark.table(f\"{config.catalog_name}.{config.schema_name}.train_dataset\").toPandas()\n",
    "test_set = spark.table(f\"{config.catalog_name}.{config.schema_name}.test_dataset\").toPandas()\n"
   ]
  },
  {
   "cell_type": "code",
   "execution_count": 0,
   "metadata": {
    "application/vnd.databricks.v1+cell": {
     "cellMetadata": {
      "byteLimit": 2048000,
      "rowLimit": 10000
     },
     "inputWidgets": {},
     "nuid": "f83f74a0-3bd4-4f43-a643-88f8bff98f82",
     "showTitle": false,
     "tableResultSettingsMap": {},
     "title": ""
    },
    "vscode": {
     "languageId": "plaintext"
    }
   },
   "outputs": [],
   "source": [
    "# Encode categorical and datetime variables\n",
    "def preprocess_data(df):\n",
    "    label_encoders = {}\n",
    "    for col in df.select_dtypes(include=['object', 'datetime']).columns:\n",
    "        le = LabelEncoder()\n",
    "        df[col] = le.fit_transform(df[col].astype(str))\n",
    "        label_encoders[col] = le\n",
    "    return df, label_encoders\n",
    "\n",
    "train_set, label_encoders = preprocess_data(train_set)\n",
    "\n",
    "# Define features and target (adjust columns accordingly)\n",
    "features = train_set.drop(columns=[config.target])\n",
    "target = train_set[config.target]\n",
    "\n",
    "# Train a Random Forest model\n",
    "model = RandomForestRegressor(random_state=42)\n",
    "model.fit(features, target)\n",
    "\n",
    "# Identify the most important features\n",
    "feature_importances = pd.DataFrame({\n",
    "    'Feature': features.columns,\n",
    "    'Importance': model.feature_importances_\n",
    "}).sort_values(by='Importance', ascending=False)\n",
    "\n",
    "print(\"Top 5 important features:\")\n",
    "print(feature_importances.head(5))"
   ]
  },
  {
   "cell_type": "code",
   "execution_count": 0,
   "metadata": {
    "application/vnd.databricks.v1+cell": {
     "cellMetadata": {
      "byteLimit": 2048000,
      "rowLimit": 10000
     },
     "inputWidgets": {},
     "nuid": "282a9548-3614-4253-a906-68dd15c3b4bc",
     "showTitle": false,
     "tableResultSettingsMap": {},
     "title": ""
    },
    "vscode": {
     "languageId": "plaintext"
    }
   },
   "outputs": [],
   "source": [
    "from hotel_reservation.preprocessing import generate_synthetic_data\n",
    "\n",
    "inference_data_skewed = generate_synthetic_data(train_set, config=config, drift=True, num_rows=200)\n",
    "\n",
    "inference_data_skewed_spark = spark.createDataFrame(inference_data_skewed).withColumn(\n",
    "    \"update_timestamp_utc\", to_utc_timestamp(current_timestamp(), \"UTC\")\n",
    ")\n",
    "\n",
    "inference_data_skewed_spark.write.mode(\"overwrite\").saveAsTable(\n",
    "    f\"{config.catalog_name}.{config.schema_name}.inference_data_skewed\"\n",
    ")"
   ]
  },
  {
   "cell_type": "code",
   "execution_count": 0,
   "metadata": {
    "application/vnd.databricks.v1+cell": {
     "cellMetadata": {
      "byteLimit": 2048000,
      "rowLimit": 10000
     },
     "inputWidgets": {},
     "nuid": "b36ac3aa-e615-4780-895b-ed76d431d24f",
     "showTitle": false,
     "tableResultSettingsMap": {},
     "title": ""
    },
    "vscode": {
     "languageId": "plaintext"
    }
   },
   "outputs": [],
   "source": [
    "import pandas as pd\n",
    "from pyspark.sql.functions import col\n",
    "from pyspark.sql.functions import current_timestamp, to_utc_timestamp\n",
    "import numpy as np\n",
    "import datetime\n",
    "import itertools\n",
    "from pyspark.sql import SparkSession\n",
    "\n",
    "from hotel_reservation.config import ProjectConfig\n",
    "\n",
    "spark = SparkSession.builder.getOrCreate()\n",
    "\n",
    "# Load configuration\n",
    "config = ProjectConfig.from_yaml(config_path=\"../project_config.yml\", env=\"prd\")\n",
    "\n",
    "test_set = spark.table(f\"{config.catalog_name}.{config.schema_name}.test_dataset\") \\\n",
    "                        .withColumn(\"Booking_ID\", col(\"Booking_ID\").cast(\"string\")) \\\n",
    "                        .toPandas()\n",
    "\n",
    "\n",
    "inference_data_skewed = spark.table(f\"{config.catalog_name}.{config.schema_name}.inference_data_skewed\") \\\n",
    "                        .withColumn(\"Booking_ID\", col(\"Booking_ID\").cast(\"string\")) \\\n",
    "                        .toPandas()\n",
    "\n",
    "token = dbutils.notebook.entry_point.getDbutils().notebook().getContext().apiToken().get()\n",
    "host = spark.conf.get(\"spark.databricks.workspaceUrl\")"
   ]
  },
  {
   "cell_type": "code",
   "execution_count": 0,
   "metadata": {
    "application/vnd.databricks.v1+cell": {
     "cellMetadata": {
      "byteLimit": 2048000,
      "rowLimit": 10000
     },
     "inputWidgets": {},
     "nuid": "f4f22c9c-a482-4313-93aa-e841a07d3a7b",
     "showTitle": false,
     "tableResultSettingsMap": {},
     "title": ""
    },
    "vscode": {
     "languageId": "plaintext"
    }
   },
   "outputs": [],
   "source": [
    "from databricks.sdk import WorkspaceClient\n",
    "import requests\n",
    "import time\n",
    "\n",
    "workspace = WorkspaceClient()\n",
    "\n",
    "# Required columns for inference\n",
    "required_columns = [\n",
    "    \"type_of_meal_plan\",\n",
    "    \"room_type_reserved\",\n",
    "    \"market_segment_type\",\n",
    "    \"no_of_weekend_nights\",\n",
    "    \"no_of_week_nights\",\n",
    "    \"required_car_parking_space\",\n",
    "    \"lead_time\",\n",
    "    \"arrival_year\",\n",
    "    \"arrival_month\",\n",
    "    \"arrival_date\",\n",
    "    \"repeated_guest\",\n",
    "    \"no_of_previous_cancellations\",\n",
    "    \"no_of_previous_bookings_not_canceled\",\n",
    "    \"no_of_special_requests\",\n",
    "    \"Booking_ID\",\n",
    "    \"quarter\",\n",
    "    \"no_of_adults\",\n",
    "    \"no_of_children\",\n",
    "    \"avg_price_per_room\",\n",
    "]\n",
    "\n",
    "# Sample records from inference datasets\n",
    "sampled_skewed_records = inference_data_skewed[required_columns].to_dict(orient=\"records\")\n",
    "test_set_records = test_set[required_columns].to_dict(orient=\"records\")\n"
   ]
  },
  {
   "cell_type": "code",
   "execution_count": 0,
   "metadata": {
    "application/vnd.databricks.v1+cell": {
     "cellMetadata": {
      "byteLimit": 2048000,
      "rowLimit": 10000
     },
     "inputWidgets": {},
     "nuid": "f0a58016-755c-4194-a3c6-dbc308280995",
     "showTitle": false,
     "tableResultSettingsMap": {},
     "title": ""
    },
    "vscode": {
     "languageId": "plaintext"
    }
   },
   "outputs": [],
   "source": [
    "# Two different way to send request to the endpoint\n",
    "# 1. Using https endpoint\n",
    "def send_request_https(dataframe_record):\n",
    "    model_serving_endpoint = f\"https://{host}/serving-endpoints/hotel_reservation_endpoint/invocations\"\n",
    "    response = requests.post(\n",
    "        model_serving_endpoint,\n",
    "        headers={\"Authorization\": f\"Bearer {token}\"},\n",
    "        json={\"dataframe_records\": [dataframe_record]},\n",
    "    )\n",
    "    return response\n",
    "\n",
    "# 2. Using workspace client\n",
    "def send_request_workspace(dataframe_record):\n",
    "    response = workspace.serving_endpoints.query(\n",
    "        name=\"hotel_reservation_endpoint\",\n",
    "        dataframe_records=[dataframe_record]\n",
    "    )\n",
    "    return response"
   ]
  },
  {
   "cell_type": "code",
   "execution_count": 0,
   "metadata": {
    "application/vnd.databricks.v1+cell": {
     "cellMetadata": {
      "byteLimit": 2048000,
      "rowLimit": 10000
     },
     "inputWidgets": {},
     "nuid": "34ed6d2a-b8c4-45f4-8548-a8b96fbcaeb8",
     "showTitle": false,
     "tableResultSettingsMap": {},
     "title": ""
    },
    "vscode": {
     "languageId": "plaintext"
    }
   },
   "outputs": [],
   "source": [
    "# Loop over test records and send requests for 10 minutes\n",
    "end_time = datetime.datetime.now() + datetime.timedelta(minutes=5)\n",
    "for index, record in enumerate(itertools.cycle(test_set_records)):\n",
    "    if datetime.datetime.now() >= end_time:\n",
    "        break\n",
    "    print(f\"Sending request for test data, index {index}\")\n",
    "    response = send_request_https(record)\n",
    "    print(f\"Response status: {response.status_code}\")\n",
    "    print(f\"Response text: {response.text}\")\n",
    "    time.sleep(0.2)"
   ]
  },
  {
   "cell_type": "code",
   "execution_count": 0,
   "metadata": {
    "application/vnd.databricks.v1+cell": {
     "cellMetadata": {
      "byteLimit": 2048000,
      "rowLimit": 10000
     },
     "inputWidgets": {},
     "nuid": "90ed572a-3cef-463b-9d18-9c8dff6d09ab",
     "showTitle": false,
     "tableResultSettingsMap": {},
     "title": ""
    },
    "vscode": {
     "languageId": "plaintext"
    }
   },
   "outputs": [],
   "source": [
    "# Loop over skewed records and send requests for 10 minutes\n",
    "end_time = datetime.datetime.now() + datetime.timedelta(minutes=5)\n",
    "for index, record in enumerate(itertools.cycle(sampled_skewed_records)):\n",
    "    if datetime.datetime.now() >= end_time:\n",
    "        break\n",
    "    print(f\"Sending request for skewed data, index {index}\")\n",
    "    response = send_request_https(record)\n",
    "    print(f\"Response status: {response.status_code}\")\n",
    "    print(f\"Response text: {response.text}\")\n",
    "    time.sleep(0.2)"
   ]
  },
  {
   "cell_type": "code",
   "execution_count": 0,
   "metadata": {
    "application/vnd.databricks.v1+cell": {
     "cellMetadata": {
      "byteLimit": 2048000,
      "rowLimit": 10000
     },
     "inputWidgets": {},
     "nuid": "f3aeef93-4e27-43fa-a46c-d4bb8ee70ece",
     "showTitle": false,
     "tableResultSettingsMap": {},
     "title": ""
    },
    "vscode": {
     "languageId": "plaintext"
    }
   },
   "outputs": [],
   "source": [
    "from pyspark.sql.functions import col\n",
    "from databricks.connect import DatabricksSession\n",
    "from pyspark.sql import functions as F\n",
    "from pyspark.sql.types import StructType, StructField, StringType, IntegerType, DoubleType, ArrayType\n",
    "from databricks.sdk import WorkspaceClient\n",
    "\n",
    "from hotel_reservation.config import ProjectConfig\n",
    "from hotel_reservation.monitoring import create_or_refresh_monitoring\n",
    "\n",
    "spark = DatabricksSession.builder.getOrCreate()\n",
    "workspace = WorkspaceClient()\n",
    "\n",
    "# Load configuration\n",
    "config = ProjectConfig.from_yaml(config_path=\"../project_config.yml\", env=\"prd\")\n",
    "\n",
    "create_or_refresh_monitoring(config=config, spark=spark, workspace=workspace)"
   ]
  }
 ],
 "metadata": {
  "application/vnd.databricks.v1+notebook": {
   "computePreferences": null,
   "dashboards": [],
   "environmentMetadata": null,
   "language": "python",
   "notebookMetadata": {
    "pythonIndentUnit": 4
   },
   "notebookName": "05.01_create_monitoring_table",
   "widgets": {}
  },
  "language_info": {
   "name": "python"
  }
 },
 "nbformat": 4,
 "nbformat_minor": 0
}
