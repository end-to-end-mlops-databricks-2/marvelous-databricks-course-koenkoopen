{
 "cells": [
  {
   "cell_type": "code",
   "execution_count": null,
   "metadata": {
    "vscode": {
     "languageId": "plaintext"
    }
   },
   "outputs": [],
   "source": [
    "import pandas as pd\n",
    "from pyspark.sql.functions import col\n",
    "from pyspark.sql.functions import current_timestamp, to_utc_timestamp\n",
    "import numpy as np\n",
    "from pyspark.sql import SparkSession\n",
    "\n",
    "from sklearn.ensemble import RandomForestRegressor\n",
    "from sklearn.preprocessing import LabelEncoder\n",
    "\n",
    "from hotel_reservation.config import ProjectConfig\n",
    "\n",
    "spark = SparkSession.builder.getOrCreate()\n",
    "\n",
    "# Load configuration\n",
    "config = ProjectConfig.from_yaml(config_path=\"project_config.yml\", env=\"dev\")\n",
    "spark = SparkSession.builder.getOrCreate()\n",
    "\n",
    "train_set = spark.table(f\"{config.catalog_name}.{config.schema_name}.train_set\").toPandas()\n",
    "test_set = spark.table(f\"{config.catalog_name}.{config.schema_name}.test_set\").toPandas()\n"
   ]
  },
  {
   "cell_type": "code",
   "execution_count": null,
   "metadata": {
    "vscode": {
     "languageId": "plaintext"
    }
   },
   "outputs": [],
   "source": [
    "# Encode categorical and datetime variables\n",
    "def preprocess_data(df):\n",
    "    label_encoders = {}\n",
    "    for col in df.select_dtypes(include=['object', 'datetime']).columns:\n",
    "        le = LabelEncoder()\n",
    "        df[col] = le.fit_transform(df[col].astype(str))\n",
    "        label_encoders[col] = le\n",
    "    return df, label_encoders\n",
    "\n",
    "train_set, label_encoders = preprocess_data(train_set)\n",
    "\n",
    "# Define features and target (adjust columns accordingly)\n",
    "features = train_set.drop(columns=[\"SalePrice\"])\n",
    "target = train_set[\"SalePrice\"]\n",
    "\n",
    "# Train a Random Forest model\n",
    "model = RandomForestRegressor(random_state=42)\n",
    "model.fit(features, target)\n",
    "\n",
    "# Identify the most important features\n",
    "feature_importances = pd.DataFrame({\n",
    "    'Feature': features.columns,\n",
    "    'Importance': model.feature_importances_\n",
    "}).sort_values(by='Importance', ascending=False)\n",
    "\n",
    "print(\"Top 5 important features:\")\n",
    "print(feature_importances.head(5))"
   ]
  },
  {
   "cell_type": "code",
   "execution_count": null,
   "metadata": {
    "vscode": {
     "languageId": "plaintext"
    }
   },
   "outputs": [],
   "source": [
    "from hotel_reservation.data_processor import generate_synthetic_data\n",
    "\n",
    "inference_data_skewed = generate_synthetic_data(train_set, drift= True, num_rows=200)"
   ]
  },
  {
   "cell_type": "code",
   "execution_count": null,
   "metadata": {
    "vscode": {
     "languageId": "plaintext"
    }
   },
   "outputs": [],
   "source": [
    "\n",
    "inference_data_skewed_spark = spark.createDataFrame(inference_data_skewed).withColumn(\n",
    "    \"update_timestamp_utc\", to_utc_timestamp(current_timestamp(), \"UTC\")\n",
    ")\n",
    "\n",
    "inference_data_skewed_spark.write.mode(\"overwrite\").saveAsTable(\n",
    "    f\"{config.catalog_name}.{config.schema_name}.inference_data_skewed\"\n",
    ")"
   ]
  },
  {
   "cell_type": "code",
   "execution_count": null,
   "metadata": {
    "vscode": {
     "languageId": "plaintext"
    }
   },
   "outputs": [],
   "source": [
    "import time\n",
    "from databricks.sdk import WorkspaceClient\n",
    "\n",
    "workspace = WorkspaceClient()\n",
    "\n",
    "#write into feature table; update online table\n",
    "spark.sql(f\"\"\"\n",
    "    INSERT INTO {config.catalog_name}.{config.schema_name}.house_features\n",
    "    SELECT Id, OverallQual, GrLivArea, GarageCars\n",
    "    FROM {config.catalog_name}.{config.schema_name}.inference_data_skewed\n",
    "\"\"\")\n",
    "\n",
    "update_response = workspace.pipelines.start_update(\n",
    "    pipeline_id=config.pipeline_id, full_refresh=False)\n",
    "while True:\n",
    "    update_info = workspace.pipelines.get_update(pipeline_id=config.pipeline_id, \n",
    "                            update_id=update_response.update_id)\n",
    "    state = update_info.update.state.value\n",
    "    if state == 'COMPLETED':\n",
    "        break\n",
    "    elif state in ['FAILED', 'CANCELED']:\n",
    "        raise SystemError(\"Online table failed to update.\")\n",
    "    elif state == 'WAITING_FOR_RESOURCES':\n",
    "        print(\"Pipeline is waiting for resources.\")\n",
    "    else:\n",
    "        print(f\"Pipeline is in {state} state.\")\n",
    "    time.sleep(30)"
   ]
  },
  {
   "cell_type": "code",
   "execution_count": null,
   "metadata": {
    "vscode": {
     "languageId": "plaintext"
    }
   },
   "outputs": [],
   "source": [
    "import pandas as pd\n",
    "from pyspark.sql.functions import col\n",
    "from pyspark.sql.functions import current_timestamp, to_utc_timestamp\n",
    "import numpy as np\n",
    "import datetime\n",
    "import itertools\n",
    "from pyspark.sql import SparkSession\n",
    "\n",
    "from hotel_reservation.config import ProjectConfig\n",
    "\n",
    "spark = SparkSession.builder.getOrCreate()\n",
    "\n",
    "# Load configuration\n",
    "config = ProjectConfig.from_yaml(config_path=\"project_config.yml\", env=\"prd\")\n",
    "\n",
    "test_set = spark.table(f\"{config.catalog_name}.{config.schema_name}.test_set\") \\\n",
    "                        .withColumn(\"Id\", col(\"Id\").cast(\"string\")) \\\n",
    "                        .toPandas()\n",
    "\n",
    "\n",
    "inference_data_skewed = spark.table(f\"{config.catalog_name}.{config.schema_name}.inference_data_skewed\") \\\n",
    "                        .withColumn(\"Id\", col(\"Id\").cast(\"string\")) \\\n",
    "                        .toPandas()"
   ]
  },
  {
   "cell_type": "code",
   "execution_count": null,
   "metadata": {
    "vscode": {
     "languageId": "plaintext"
    }
   },
   "outputs": [],
   "source": [
    "token = dbutils.notebook.entry_point.getDbutils().notebook().getContext().apiToken().get()\n",
    "host = spark.conf.get(\"spark.databricks.workspaceUrl\")\n",
    "\n"
   ]
  },
  {
   "cell_type": "code",
   "execution_count": null,
   "metadata": {
    "vscode": {
     "languageId": "plaintext"
    }
   },
   "outputs": [],
   "source": [
    "from databricks.sdk import WorkspaceClient\n",
    "import requests\n",
    "import time\n",
    "\n",
    "workspace = WorkspaceClient()\n",
    "\n",
    "# Required columns for inference\n",
    "required_columns = [\n",
    "    \"LotFrontage\",\n",
    "    \"LotArea\",\n",
    "    \"OverallCond\",\n",
    "    \"YearBuilt\",\n",
    "    \"YearRemodAdd\",\n",
    "    \"MasVnrArea\",\n",
    "    \"TotalBsmtSF\",\n",
    "    \"MSZoning\",\n",
    "    \"Street\",\n",
    "    \"Alley\",\n",
    "    \"LotShape\",\n",
    "    \"LandContour\",\n",
    "    \"Neighborhood\",\n",
    "    \"Condition1\",\n",
    "    \"BldgType\",\n",
    "    \"HouseStyle\",\n",
    "    \"RoofStyle\",\n",
    "    \"Exterior1st\",\n",
    "    \"Exterior2nd\",\n",
    "    \"MasVnrType\",\n",
    "    \"Foundation\",\n",
    "    \"Heating\",\n",
    "    \"CentralAir\",\n",
    "    \"SaleType\",\n",
    "    \"SaleCondition\",\n",
    "    \"Id\",\n",
    "]\n",
    "\n",
    "# Sample records from inference datasets\n",
    "sampled_skewed_records = inference_data_skewed[required_columns].to_dict(orient=\"records\")\n",
    "test_set_records = test_set[required_columns].to_dict(orient=\"records\")\n"
   ]
  },
  {
   "cell_type": "code",
   "execution_count": null,
   "metadata": {
    "vscode": {
     "languageId": "plaintext"
    }
   },
   "outputs": [],
   "source": [
    "# Two different way to send request to the endpoint\n",
    "# 1. Using https endpoint\n",
    "def send_request_https(dataframe_record):\n",
    "    model_serving_endpoint = f\"https://{host}/serving-endpoints/house-prices-model-serving-fe/invocations\"\n",
    "    response = requests.post(\n",
    "        model_serving_endpoint,\n",
    "        headers={\"Authorization\": f\"Bearer {token}\"},\n",
    "        json={\"dataframe_records\": [dataframe_record]},\n",
    "    )\n",
    "    return response\n",
    "\n",
    "# 2. Using workspace client\n",
    "def send_request_workspace(dataframe_record):\n",
    "    response = workspace.serving_endpoints.query(\n",
    "        name=\"house-prices-model-serving-fe\",\n",
    "        dataframe_records=[dataframe_record]\n",
    "    )\n",
    "    return response"
   ]
  },
  {
   "cell_type": "code",
   "execution_count": null,
   "metadata": {
    "vscode": {
     "languageId": "plaintext"
    }
   },
   "outputs": [],
   "source": [
    "# Loop over test records and send requests for 10 minutes\n",
    "end_time = datetime.datetime.now() + datetime.timedelta(minutes=20)\n",
    "for index, record in enumerate(itertools.cycle(test_set_records)):\n",
    "    if datetime.datetime.now() >= end_time:\n",
    "        break\n",
    "    print(f\"Sending request for test data, index {index}\")\n",
    "    response = send_request_https(record)\n",
    "    print(f\"Response status: {response.status_code}\")\n",
    "    print(f\"Response text: {response.text}\")\n",
    "    time.sleep(0.2)"
   ]
  },
  {
   "cell_type": "code",
   "execution_count": null,
   "metadata": {
    "vscode": {
     "languageId": "plaintext"
    }
   },
   "outputs": [],
   "source": [
    "# Loop over skewed records and send requests for 10 minutes\n",
    "end_time = datetime.datetime.now() + datetime.timedelta(minutes=30)\n",
    "for index, record in enumerate(itertools.cycle(sampled_skewed_records)):\n",
    "    if datetime.datetime.now() >= end_time:\n",
    "        break\n",
    "    print(f\"Sending request for skewed data, index {index}\")\n",
    "    response = send_request_https(record)\n",
    "    print(f\"Response status: {response.status_code}\")\n",
    "    print(f\"Response text: {response.text}\")\n",
    "    time.sleep(0.2)"
   ]
  },
  {
   "cell_type": "code",
   "execution_count": null,
   "metadata": {
    "vscode": {
     "languageId": "plaintext"
    }
   },
   "outputs": [],
   "source": [
    "from pyspark.sql.functions import col\n",
    "from databricks.connect import DatabricksSession\n",
    "from pyspark.sql import functions as F\n",
    "from pyspark.sql.types import StructType, StructField, StringType, IntegerType, DoubleType, ArrayType\n",
    "from databricks.sdk import WorkspaceClient\n",
    "\n",
    "from house_price.config import ProjectConfig\n",
    "from house_price.monitoring import create_or_refresh_monitoring\n",
    "\n",
    "spark = DatabricksSession.builder.getOrCreate()\n",
    "workspace = WorkspaceClient()\n",
    "\n",
    "# Load configuration\n",
    "config = ProjectConfig.from_yaml(config_path=\"project_config.yml\", env=\"prd\")\n",
    "\n",
    "create_or_refresh_monitoring(config=config, spark=spark, workspace=workspace)"
   ]
  }
 ],
 "metadata": {
  "language_info": {
   "name": "python"
  }
 },
 "nbformat": 4,
 "nbformat_minor": 2
}
