{
 "cells": [
  {
   "cell_type": "code",
   "execution_count": 0,
   "metadata": {
    "application/vnd.databricks.v1+cell": {
     "cellMetadata": {
      "byteLimit": 2048000,
      "rowLimit": 10000
     },
     "inputWidgets": {},
     "nuid": "5ee00e59-9746-48ef-9cbc-ef65c138df9f",
     "showTitle": false,
     "tableResultSettingsMap": {},
     "title": ""
    }
   },
   "outputs": [],
   "source": [
    "%pip install databricks-feature-engineering==0.6 databricks-sdk==0.32.0\n",
    "%restart_python"
   ]
  },
  {
   "cell_type": "code",
   "execution_count": 0,
   "metadata": {
    "application/vnd.databricks.v1+cell": {
     "cellMetadata": {
      "byteLimit": 2048000,
      "rowLimit": 10000
     },
     "inputWidgets": {},
     "nuid": "f288f34f-edc9-477b-adbc-a519c10881ce",
     "showTitle": false,
     "tableResultSettingsMap": {},
     "title": ""
    }
   },
   "outputs": [],
   "source": [
    "import os\n",
    "import time\n",
    "\n",
    "import mlflow\n",
    "import requests\n",
    "from databricks import feature_engineering\n",
    "from pyspark.dbutils import DBUtils\n",
    "from pyspark.sql import SparkSession\n",
    "\n",
    "from hotel_reservation.config import ProjectConfig\n",
    "from hotel_reservation.serving.feature_serving import FeatureServing\n",
    "from hotel_reservation.utils import configure_logging\n",
    "\n",
    "logger = configure_logging(\"Hotel Reservations Deploy Model\")\n",
    "\n",
    "# Load project config\n",
    "config = ProjectConfig.from_yaml(config_path=\"../project_config.yml\")\n",
    "\n",
    "# COMMAND ----------\n",
    "spark = SparkSession.builder.getOrCreate()\n",
    "dbutils = DBUtils(spark)\n",
    "\n",
    "fe = feature_engineering.FeatureEngineeringClient()\n",
    "mlflow.set_registry_uri(\"databricks-uc\")\n",
    "\n",
    "# get environment variables\n",
    "os.environ[\"DBR_TOKEN\"] = dbutils.notebook.entry_point.getDbutils().notebook().getContext().apiToken().get()\n",
    "os.environ[\"DBR_HOST\"] = spark.conf.get(\"spark.databricks.workspaceUrl\")\n",
    "\n",
    "catalog_name = config.catalog_name\n",
    "schema_name = config.schema_name\n",
    "feature_table_name = f\"{catalog_name}.{schema_name}.hotel_reservation_features\"\n",
    "feature_spec_name = f\"{catalog_name}.{schema_name}.return_predictions\"\n",
    "endpoint_name = \"hotel-reservations-feature-serving\""
   ]
  },
  {
   "cell_type": "code",
   "execution_count": 0,
   "metadata": {
    "application/vnd.databricks.v1+cell": {
     "cellMetadata": {
      "byteLimit": 2048000,
      "rowLimit": 10000
     },
     "inputWidgets": {},
     "nuid": "ab058f2d-d3bf-49ec-ac77-104dd6b89efc",
     "showTitle": false,
     "tableResultSettingsMap": {},
     "title": ""
    }
   },
   "outputs": [],
   "source": [
    "spark.sql(f\"\"\"\n",
    "          ALTER TABLE {feature_table_name}\n",
    "          SET TBLPROPERTIES (delta.enableChangeDataFeed = true)\n",
    "        \"\"\")\n",
    "\n",
    "# Initialize feature store manager\n",
    "feature_serving = FeatureServing(\n",
    "    feature_table_name=feature_table_name, feature_spec_name=feature_spec_name, endpoint_name=endpoint_name\n",
    ")\n",
    "\n",
    "# Create online table\n",
    "feature_serving.create_online_table()\n",
    "\n",
    "# Create feature spec\n",
    "feature_serving.create_feature_spec()\n",
    "\n",
    "# Deploy feature serving endpoint\n",
    "feature_serving.deploy_or_update_serving_endpoint()"
   ]
  },
  {
   "cell_type": "code",
   "execution_count": 0,
   "metadata": {
    "application/vnd.databricks.v1+cell": {
     "cellMetadata": {
      "byteLimit": 2048000,
      "rowLimit": 10000
     },
     "inputWidgets": {},
     "nuid": "e894d4f6-bced-4961-a02d-6fd37ab8026f",
     "showTitle": false,
     "tableResultSettingsMap": {},
     "title": ""
    }
   },
   "outputs": [],
   "source": [
    "os.environ[\"DBR_TOKEN\"] = dbutils.notebook.entry_point.getDbutils().notebook().getContext().apiToken().get()\n",
    "os.environ[\"DBR_HOST\"] = spark.conf.get(\"spark.databricks.workspaceUrl\")\n",
    "\n",
    "serving_endpoint = f\"https://{os.environ['DBR_HOST']}/serving-endpoints/{endpoint_name}/invocations\"\n",
    "\n",
    "\n",
    "start_time = time.time()\n",
    "response = requests.post(\n",
    "    f\"{serving_endpoint}\",\n",
    "    headers={\"Authorization\": f\"Bearer {os.environ['DBR_TOKEN']}\"},\n",
    "    json={\"dataframe_split\": {\"columns\": [\"Booking_ID\"], \"data\": [[\"INN00015\"]]}},\n",
    ")\n",
    "end_time = time.time()\n",
    "execution_time = end_time - start_time\n",
    "\n",
    "logger.info(f\"Response status: {response.status_code}\")\n",
    "logger.info(f\"Reponse text: {response.text}\")\n",
    "logger.info(f\"Execution time: {execution_time} seconds\")"
   ]
  }
 ],
 "metadata": {
  "application/vnd.databricks.v1+notebook": {
   "computePreferences": null,
   "dashboards": [],
   "environmentMetadata": {
    "base_environment": "",
    "environment_version": "2"
   },
   "language": "python",
   "notebookMetadata": {
    "pythonIndentUnit": 4
   },
   "notebookName": "03.2 Feature_serving",
   "widgets": {}
  },
  "language_info": {
   "name": "python"
  }
 },
 "nbformat": 4,
 "nbformat_minor": 0
}
