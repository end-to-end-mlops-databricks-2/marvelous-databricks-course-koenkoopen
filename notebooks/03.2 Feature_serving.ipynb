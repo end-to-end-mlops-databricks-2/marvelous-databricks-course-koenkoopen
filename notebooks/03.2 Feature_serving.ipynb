{
 "cells": [
  {
   "cell_type": "code",
   "execution_count": 0,
   "metadata": {
    "application/vnd.databricks.v1+cell": {
     "cellMetadata": {
      "byteLimit": 2048000,
      "rowLimit": 10000
     },
     "inputWidgets": {},
     "nuid": "5ee00e59-9746-48ef-9cbc-ef65c138df9f",
     "showTitle": false,
     "tableResultSettingsMap": {},
     "title": ""
    }
   },
   "outputs": [],
   "source": [
    "%pip install databricks-feature-engineering==0.6 databricks-sdk==0.32.0\n",
    "%restart_python"
   ]
  },
  {
   "cell_type": "code",
   "execution_count": 0,
   "metadata": {
    "application/vnd.databricks.v1+cell": {
     "cellMetadata": {
      "byteLimit": 2048000,
      "rowLimit": 10000
     },
     "inputWidgets": {},
     "nuid": "f288f34f-edc9-477b-adbc-a519c10881ce",
     "showTitle": false,
     "tableResultSettingsMap": {},
     "title": ""
    }
   },
   "outputs": [],
   "source": [
    "\n",
    "import os\n",
    "import time\n",
    "\n",
    "import mlflow\n",
    "import pandas as pd\n",
    "import requests\n",
    "from databricks import feature_engineering\n",
    "from pyspark.dbutils import DBUtils\n",
    "from pyspark.sql import SparkSession\n",
    "\n",
    "from hotel_reservation.config import ProjectConfig\n",
    "from hotel_reservation.serving.feature_serving import FeatureServing\n",
    "\n",
    "from hotel_reservation.utils import configure_logging\n",
    "\n",
    "logger = configure_logging(\"Hotel Reservations Deploy Model\")\n",
    "\n",
    "# Load project config\n",
    "config = ProjectConfig.from_yaml(config_path=\"../project_config.yml\")\n",
    "\n",
    "# COMMAND ----------\n",
    "spark = SparkSession.builder.getOrCreate()\n",
    "dbutils = DBUtils(spark)\n",
    "\n",
    "fe = feature_engineering.FeatureEngineeringClient()\n",
    "mlflow.set_registry_uri(\"databricks-uc\")\n",
    "\n",
    "# get environment variables\n",
    "os.environ[\"DBR_TOKEN\"] = dbutils.notebook.entry_point.getDbutils().notebook().getContext().apiToken().get()\n",
    "os.environ[\"DBR_HOST\"] = spark.conf.get(\"spark.databricks.workspaceUrl\")\n",
    "\n",
    "catalog_name = config.catalog_name\n",
    "schema_name = config.schema_name\n",
    "feature_table_name = f\"{catalog_name}.{schema_name}.hotel_reservation_features\"\n",
    "feature_spec_name = f\"{catalog_name}.{schema_name}.return_predictions\"\n",
    "endpoint_name = \"hotel-reservations-feature-serving\"\n"
   ]
  },
  {
   "cell_type": "code",
   "execution_count": 0,
   "metadata": {
    "application/vnd.databricks.v1+cell": {
     "cellMetadata": {
      "byteLimit": 2048000,
      "rowLimit": 10000
     },
     "inputWidgets": {},
     "nuid": "59650a5c-a3ca-4024-84ba-32f926a227bb",
     "showTitle": false,
     "tableResultSettingsMap": {},
     "title": ""
    }
   },
   "outputs": [],
   "source": [
    "# train_set = spark.table(f\"{catalog_name}.{schema_name}.train_dataset\").toPandas()\n",
    "# test_set = spark.table(f\"{catalog_name}.{schema_name}.test_dataset\").toPandas()\n",
    "# df = pd.concat([train_set, test_set])\n",
    "\n",
    "# model = mlflow.pyfunc.load_model(f\"models:/{catalog_name}.{schema_name}.hotel_reservation_model_fe@latest-model\")\n",
    "\n",
    "# preds_df = df[[\"Booking_ID\", \"no_of_adults\", \"no_of_children\", \"avg_price_per_room\"]]\n",
    "\n",
    "# input_features = ['no_of_weekend_nights',\n",
    "#  'no_of_week_nights',\n",
    "#  'required_car_parking_space',\n",
    "#  'lead_time',\n",
    "#  'repeated_guest',\n",
    "#  'no_of_previous_cancellations',\n",
    "#  'no_of_previous_bookings_not_canceled',\n",
    "#  'no_of_special_requests',\n",
    "#  'Booking_ID',\n",
    "#  'market_segment_type_Complementary',\n",
    "#  'market_segment_type_Corporate',\n",
    "#  'market_segment_type_Offline',\n",
    "#  'market_segment_type_Online',\n",
    "#  'type_of_meal_plan_Meal_Plan_2',\n",
    "#  'room_type_reserved_Room_Type_4',\n",
    "#  'room_type_reserved_Room_Type_6',\n",
    "#  'room_type_reserved_Room_Type_7',\n",
    "#  'quarter_Q2',\n",
    "#  'quarter_Q3',\n",
    "#  'quarter_Q4',\n",
    "#  'no_of_adults',\n",
    "#  'no_of_children',\n",
    "#  'avg_price_per_room']\n",
    "\n",
    "# preds_df[\"Predicted_status\"] = model.predict(df[input_features])\n",
    "# preds_df = spark.createDataFrame(preds_df)\n",
    "\n",
    "# fe.create_table(\n",
    "#     name=feature_table_name, primary_keys=[\"Booking_ID\"], df=preds_df, description=\"Hotel reservation predictions feature table\"\n",
    "# )"
   ]
  },
  {
   "cell_type": "code",
   "execution_count": 0,
   "metadata": {
    "application/vnd.databricks.v1+cell": {
     "cellMetadata": {
      "byteLimit": 2048000,
      "rowLimit": 10000
     },
     "inputWidgets": {},
     "nuid": "ab058f2d-d3bf-49ec-ac77-104dd6b89efc",
     "showTitle": false,
     "tableResultSettingsMap": {},
     "title": ""
    }
   },
   "outputs": [],
   "source": [
    "spark.sql(f\"\"\"\n",
    "          ALTER TABLE {feature_table_name}\n",
    "          SET TBLPROPERTIES (delta.enableChangeDataFeed = true)\n",
    "        \"\"\")\n",
    "\n",
    "# Initialize feature store manager\n",
    "feature_serving = FeatureServing(\n",
    "    feature_table_name=feature_table_name, feature_spec_name=feature_spec_name, endpoint_name=endpoint_name\n",
    ")\n",
    "\n",
    "# Create online table\n",
    "feature_serving.create_online_table()\n",
    "\n",
    "# Create feature spec\n",
    "feature_serving.create_feature_spec()"
   ]
  },
  {
   "cell_type": "code",
   "execution_count": 0,
   "metadata": {
    "application/vnd.databricks.v1+cell": {
     "cellMetadata": {
      "byteLimit": 2048000,
      "rowLimit": 10000
     },
     "inputWidgets": {},
     "nuid": "adbabb20-00a4-47c8-bfd9-16e2a1a5b498",
     "showTitle": false,
     "tableResultSettingsMap": {},
     "title": ""
    }
   },
   "outputs": [],
   "source": [
    "# Deploy feature serving endpoint\n",
    "feature_serving.deploy_or_update_serving_endpoint()"
   ]
  },
  {
   "cell_type": "code",
   "execution_count": 0,
   "metadata": {
    "application/vnd.databricks.v1+cell": {
     "cellMetadata": {
      "byteLimit": 2048000,
      "rowLimit": 10000
     },
     "inputWidgets": {},
     "nuid": "e894d4f6-bced-4961-a02d-6fd37ab8026f",
     "showTitle": false,
     "tableResultSettingsMap": {},
     "title": ""
    }
   },
   "outputs": [],
   "source": [
    "\n",
    "os.environ[\"DBR_TOKEN\"] = dbutils.notebook.entry_point.getDbutils().notebook().getContext().apiToken().get()\n",
    "os.environ[\"DBR_HOST\"] = spark.conf.get(\"spark.databricks.workspaceUrl\")\n",
    "\n",
    "serving_endpoint = f\"https://{os.environ['DBR_HOST']}/serving-endpoints/{endpoint_name}/invocations\"\n",
    "# response = requests.post(\n",
    "#     f\"{serving_endpoint}\",\n",
    "#     headers={\"Authorization\": f\"Bearer {os.environ['DBR_TOKEN']}\"},\n",
    "#     json={\"dataframe_records\": [{\"Booking_ID\": \"INN00015\"}]},\n",
    "# )"
   ]
  },
  {
   "cell_type": "code",
   "execution_count": 0,
   "metadata": {
    "application/vnd.databricks.v1+cell": {
     "cellMetadata": {
      "byteLimit": 2048000,
      "rowLimit": 10000
     },
     "inputWidgets": {},
     "nuid": "3ffb89dd-997f-4bd5-bca2-69f6c91da0a1",
     "showTitle": false,
     "tableResultSettingsMap": {},
     "title": ""
    }
   },
   "outputs": [],
   "source": [
    "# another way to call the endpoint\n",
    "start_time = time.time()\n",
    "response = requests.post(\n",
    "    f\"{serving_endpoint}\",\n",
    "    headers={\"Authorization\": f\"Bearer {os.environ['DBR_TOKEN']}\"},\n",
    "    json={\"dataframe_split\": {\"columns\": [\"Booking_ID\"], \"data\": [[\"INN00015\"]]}},\n",
    ")\n",
    "end_time = time.time()\n",
    "execution_time = end_time - start_time\n",
    "\n",
    "\n",
    "logger.info(\"Response status:\", response.status_code)\n",
    "logger.info(\"Reponse text:\", response.text)\n",
    "logger.info(\"Execution time:\", execution_time, \"seconds\")\n"
   ]
  }
 ],
 "metadata": {
  "application/vnd.databricks.v1+notebook": {
   "computePreferences": null,
   "dashboards": [],
   "environmentMetadata": {
    "base_environment": "",
    "environment_version": "2"
   },
   "language": "python",
   "notebookMetadata": {
    "pythonIndentUnit": 4
   },
   "notebookName": "03.2 Feature_serving",
   "widgets": {}
  },
  "language_info": {
   "name": "python"
  }
 },
 "nbformat": 4,
 "nbformat_minor": 0
}
