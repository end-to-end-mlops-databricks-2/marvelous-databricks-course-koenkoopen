{
 "cells": [
  {
   "cell_type": "code",
   "execution_count": 0,
   "metadata": {
    "application/vnd.databricks.v1+cell": {
     "cellMetadata": {
      "byteLimit": 2048000,
      "rowLimit": 10000
     },
     "inputWidgets": {},
     "nuid": "5ee00e59-9746-48ef-9cbc-ef65c138df9f",
     "showTitle": false,
     "tableResultSettingsMap": {},
     "title": ""
    }
   },
   "outputs": [],
   "source": [
    "%pip install databricks-feature-engineering==0.6 databricks-sdk==0.32.0\n",
    "%restart_python"
   ]
  },
  {
   "cell_type": "code",
   "execution_count": 0,
   "metadata": {
    "application/vnd.databricks.v1+cell": {
     "cellMetadata": {
      "byteLimit": 2048000,
      "rowLimit": 10000
     },
     "inputWidgets": {},
     "nuid": "f288f34f-edc9-477b-adbc-a519c10881ce",
     "showTitle": false,
     "tableResultSettingsMap": {},
     "title": ""
    }
   },
   "outputs": [],
   "source": [
    "\n",
    "import os\n",
    "import time\n",
    "\n",
    "import mlflow\n",
    "import pandas as pd\n",
    "import requests\n",
    "from databricks import feature_engineering\n",
    "from pyspark.dbutils import DBUtils\n",
    "from pyspark.sql import SparkSession\n",
    "\n",
    "from hotel_reservation.config import ProjectConfig\n",
    "from hotel_reservation.serving.feature_serving import FeatureServing\n",
    "\n",
    "# Load project config\n",
    "config = ProjectConfig.from_yaml(config_path=\"../project_config.yml\")\n",
    "\n",
    "# COMMAND ----------\n",
    "spark = SparkSession.builder.getOrCreate()\n",
    "dbutils = DBUtils(spark)\n",
    "\n",
    "fe = feature_engineering.FeatureEngineeringClient()\n",
    "mlflow.set_registry_uri(\"databricks-uc\")\n",
    "\n",
    "# get environment variables\n",
    "os.environ[\"DBR_TOKEN\"] = dbutils.notebook.entry_point.getDbutils().notebook().getContext().apiToken().get()\n",
    "os.environ[\"DBR_HOST\"] = spark.conf.get(\"spark.databricks.workspaceUrl\")\n",
    "\n",
    "catalog_name = config.catalog_name\n",
    "schema_name = config.schema_name\n",
    "feature_table_name = f\"{catalog_name}.{schema_name}.hotel_reservation_features\"\n",
    "feature_spec_name = f\"{catalog_name}.{schema_name}.return_predictions\"\n",
    "endpoint_name = \"hotel-reservations-feature-serving\"\n"
   ]
  },
  {
   "cell_type": "code",
   "execution_count": 0,
   "metadata": {
    "application/vnd.databricks.v1+cell": {
     "cellMetadata": {
      "byteLimit": 2048000,
      "rowLimit": 10000
     },
     "inputWidgets": {},
     "nuid": "59650a5c-a3ca-4024-84ba-32f926a227bb",
     "showTitle": false,
     "tableResultSettingsMap": {},
     "title": ""
    }
   },
   "outputs": [],
   "source": [
    "train_set = spark.table(f\"{catalog_name}.{schema_name}.train_dataset\").toPandas()\n",
    "test_set = spark.table(f\"{catalog_name}.{schema_name}.test_dataset\").toPandas()\n",
    "df = pd.concat([train_set, test_set])\n",
    "\n",
    "model = mlflow.pyfunc.load_model(f\"models:/{catalog_name}.{schema_name}.hotel_reservation_model_fe@latest-model\")\n",
    "\n",
    "preds_df = df[[\"Booking_ID\", \"no_of_adults\", \"no_of_children\", \"avg_price_per_room\"]]"
   ]
  },
  {
   "cell_type": "code",
   "execution_count": 0,
   "metadata": {
    "application/vnd.databricks.v1+cell": {
     "cellMetadata": {
      "byteLimit": 2048000,
      "rowLimit": 10000
     },
     "inputWidgets": {},
     "nuid": "e0dca967-170a-4c16-9083-6f0151f446b0",
     "showTitle": false,
     "tableResultSettingsMap": {},
     "title": ""
    }
   },
   "outputs": [],
   "source": [
    "preds_df[\"Predicted_status\"] = model.predict(df[config.features_used + [\"cancellation_probability\", \"Booking_ID\"]])\n",
    "preds_df = spark.createDataFrame(preds_df)\n",
    "\n",
    "fe.create_table(\n",
    "    name=feature_table_name, primary_keys=[\"Booking_ID\"], df=preds_df, description=\"Hotel reservation predictions feature table\"\n",
    ")\n",
    "\n",
    "spark.sql(f\"\"\"\n",
    "          ALTER TABLE {feature_table_name}\n",
    "          SET TBLPROPERTIES (delta.enableChangeDataFeed = true)\n",
    "        \"\"\")"
   ]
  },
  {
   "cell_type": "code",
   "execution_count": 0,
   "metadata": {
    "application/vnd.databricks.v1+cell": {
     "cellMetadata": {},
     "inputWidgets": {},
     "nuid": "3ffb89dd-997f-4bd5-bca2-69f6c91da0a1",
     "showTitle": false,
     "tableResultSettingsMap": {},
     "title": ""
    }
   },
   "outputs": [],
   "source": [
    "# Initialize feature store manager\n",
    "feature_serving = FeatureServing(\n",
    "    feature_table_name=feature_table_name, feature_spec_name=feature_spec_name, endpoint_name=endpoint_name\n",
    ")\n",
    "\n",
    "\n",
    "# COMMAND ----------\n",
    "# Create online table\n",
    "feature_serving.create_online_table()\n",
    "\n",
    "# COMMAND ----------\n",
    "# Create feature spec\n",
    "feature_serving.create_feature_spec()\n",
    "\n",
    "# COMMAND ----------\n",
    "# Deploy feature serving endpoint\n",
    "feature_serving.deploy_or_update_serving_endpoint()\n",
    "\n",
    "# COMMAND ----------\n",
    "\n",
    "start_time = time.time()\n",
    "serving_endpoint = f\"https://{os.environ['DBR_HOST']}/serving-endpoints/{endpoint_name}/invocations\"\n",
    "response = requests.post(\n",
    "    f\"{serving_endpoint}\",\n",
    "    headers={\"Authorization\": f\"Bearer {os.environ['DBR_TOKEN']}\"},\n",
    "    json={\"dataframe_records\": [{\"Id\": \"182\"}]},\n",
    ")\n",
    "\n",
    "end_time = time.time()\n",
    "execution_time = end_time - start_time\n",
    "\n",
    "print(\"Response status:\", response.status_code)\n",
    "print(\"Reponse text:\", response.text)\n",
    "print(\"Execution time:\", execution_time, \"seconds\")\n",
    "\n",
    "\n",
    "# COMMAND ----------\n",
    "# another way to call the endpoint\n",
    "\n",
    "response = requests.post(\n",
    "    f\"{serving_endpoint}\",\n",
    "    headers={\"Authorization\": f\"Bearer {os.environ['DBR_TOKEN']}\"},\n",
    "    json={\"dataframe_split\": {\"columns\": [\"Id\"], \"data\": [[\"182\"]]}},\n",
    ")"
   ]
  }
 ],
 "metadata": {
  "application/vnd.databricks.v1+notebook": {
   "computePreferences": null,
   "dashboards": [],
   "environmentMetadata": {
    "base_environment": "",
    "environment_version": "2"
   },
   "language": "python",
   "notebookMetadata": {
    "pythonIndentUnit": 4
   },
   "notebookName": "03.2 Feature_serving",
   "widgets": {}
  },
  "language_info": {
   "name": "python"
  }
 },
 "nbformat": 4,
 "nbformat_minor": 0
}
