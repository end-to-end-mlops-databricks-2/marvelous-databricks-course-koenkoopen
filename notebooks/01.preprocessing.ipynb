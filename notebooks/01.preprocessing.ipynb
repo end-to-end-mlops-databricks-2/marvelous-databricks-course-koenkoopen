{
 "cells": [
  {
   "cell_type": "code",
   "execution_count": 0,
   "metadata": {
    "application/vnd.databricks.v1+cell": {
     "cellMetadata": {
      "byteLimit": 2048000,
      "rowLimit": 10000
     },
     "inputWidgets": {},
     "nuid": "092fcd13-5d60-46f9-acaf-f5a97eee518d",
     "showTitle": false,
     "tableResultSettingsMap": {},
     "title": ""
    }
   },
   "outputs": [],
   "source": [
    "%pip install file:/Workspace/Users/koen.koopen@datasciencelab.nl/marvelous-databricks-course-koenkoopen/dist/hotel_reservation-0.2.12-py3-none-any.whl\n",
    "%restart_python"
   ]
  },
  {
   "cell_type": "code",
   "execution_count": 0,
   "metadata": {
    "application/vnd.databricks.v1+cell": {
     "cellMetadata": {
      "byteLimit": 2048000,
      "rowLimit": 10000
     },
     "inputWidgets": {},
     "nuid": "f214742f-9c91-4593-9888-6aa7ad4d1a10",
     "showTitle": false,
     "tableResultSettingsMap": {},
     "title": ""
    }
   },
   "outputs": [],
   "source": [
    "from pyspark.sql import SparkSession\n",
    "\n",
    "from hotel_reservation.utils import configure_logging\n",
    "\n",
    "logger = configure_logging(\"Hotel Reservations\")\n",
    "\n",
    "# Initialize Spark session\n",
    "spark = SparkSession.builder.appName(\"HotelReservations\").getOrCreate()\n",
    "\n",
    "# Set the catalog and schema context\n",
    "spark.sql(\"USE CATALOG koen_dev\")\n",
    "spark.sql(\"USE gold_hotel_reservations\")\n",
    "\n",
    "# Read data using SQL query\n",
    "df = spark.sql(\"SELECT * FROM hotel_reservations\")\n",
    "\n",
    "# Show the first 10 rows\n",
    "df.show()"
   ]
  },
  {
   "cell_type": "code",
   "execution_count": 0,
   "metadata": {
    "application/vnd.databricks.v1+cell": {
     "cellMetadata": {
      "byteLimit": 2048000,
      "rowLimit": 10000
     },
     "inputWidgets": {},
     "nuid": "3457e67e-1de6-46cf-8a2d-fe082934a171",
     "showTitle": false,
     "tableResultSettingsMap": {},
     "title": ""
    }
   },
   "outputs": [],
   "source": [
    "from hotel_reservation.config import ProjectConfig\n",
    "from hotel_reservation.preprocessing import DataProcessor\n",
    "\n",
    "# Load configuration\n",
    "config = ProjectConfig.from_yaml(config_path=\"../project_config.yml\")\n",
    "\n",
    "logger.info(\"Configuration loaded\")\n",
    "\n",
    "# COMMAND ----------\n",
    "# Initialize DataProcessor\n",
    "data_processor = DataProcessor(df, config, spark)\n",
    "\n",
    "data_processor.preprocess()"
   ]
  },
  {
   "cell_type": "code",
   "execution_count": 0,
   "metadata": {
    "application/vnd.databricks.v1+cell": {
     "cellMetadata": {
      "byteLimit": 2048000,
      "rowLimit": 10000
     },
     "inputWidgets": {},
     "nuid": "9ad0cf17-1dd0-4117-bb2d-e89c7afffbdd",
     "showTitle": false,
     "tableResultSettingsMap": {},
     "title": ""
    }
   },
   "outputs": [],
   "source": [
    "df_train, df_test = data_processor.split_data()\n",
    "\n",
    "data_processor.save_to_catalog(df_train, spark, table_name=\"train_dataset\")\n",
    "data_processor.save_to_catalog(df_test, spark, table_name=\"test_dataset\")\n",
    "# X_train = df_train.drop(\"booking_status\")\n",
    "# y_train = df_train.select(\"booking_status\")\n",
    "\n",
    "# X_test = df_test.drop(\"booking_status\")\n",
    "# y_test = df_test.select(\"booking_status\")\n",
    "\n",
    "# Enable change data feed (only once!)\n",
    "logger.info(\"Enable change data feed\")\n",
    "data_processor.enable_change_data_feed()"
   ]
  }
 ],
 "metadata": {
  "application/vnd.databricks.v1+notebook": {
   "computePreferences": null,
   "dashboards": [],
   "environmentMetadata": null,
   "language": "python",
   "notebookMetadata": {
    "pythonIndentUnit": 4
   },
   "notebookName": "01.preprocessing",
   "widgets": {}
  },
  "kernelspec": {
   "display_name": "venv",
   "language": "python",
   "name": "python3"
  },
  "language_info": {
   "name": "python"
  }
 },
 "nbformat": 4,
 "nbformat_minor": 0
}
