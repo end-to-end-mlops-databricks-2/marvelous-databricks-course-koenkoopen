{
 "cells": [
  {
   "cell_type": "code",
   "execution_count": null,
   "metadata": {
    "vscode": {
     "languageId": "plaintext"
    }
   },
   "outputs": [],
   "source": [
    "from pyspark.sql import SparkSession\n",
    "\n",
    "# Initialize Spark session\n",
    "spark = SparkSession.builder.appName(\"HotelReservations\").getOrCreate()\n",
    "spark.sql(\"USE CATALOG koen_dev\")\n",
    "# Read the CSV file\n",
    "df = spark.read.csv(\"dbfs:/Volumes/koen_dev/hotel_reservations/landingzone\", header=True, inferSchema=True)\n",
    "\n",
    "# Show data\n",
    "df.write.format(\"delta\").mode(\"overwrite\").saveAsTable(\"hotel_reservations\")\n"
   ]
  }
 ],
 "metadata": {
  "language_info": {
   "name": "python"
  }
 },
 "nbformat": 4,
 "nbformat_minor": 2
}
