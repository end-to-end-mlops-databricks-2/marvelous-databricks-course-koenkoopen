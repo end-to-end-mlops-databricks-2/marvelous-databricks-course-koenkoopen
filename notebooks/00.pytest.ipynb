{
 "cells": [
  {
   "cell_type": "code",
   "execution_count": 0,
   "metadata": {
    "application/vnd.databricks.v1+cell": {
     "cellMetadata": {
      "byteLimit": 2048000,
      "rowLimit": 10000
     },
     "inputWidgets": {},
     "nuid": "bf3e44c7-51aa-41cb-860d-80b5fa179891",
     "showTitle": false,
     "tableResultSettingsMap": {},
     "title": ""
    }
   },
   "outputs": [],
   "source": [
    "# %pip install pytest"
   ]
  },
  {
   "cell_type": "code",
   "execution_count": 0,
   "metadata": {
    "application/vnd.databricks.v1+cell": {
     "cellMetadata": {
      "byteLimit": 2048000,
      "rowLimit": 10000
     },
     "inputWidgets": {},
     "nuid": "cf026b02-0e53-4d78-a3aa-7b07875c2922",
     "showTitle": false,
     "tableResultSettingsMap": {},
     "title": ""
    }
   },
   "outputs": [],
   "source": [
    "\"\"\"File to run pytest in Databricks.\"\"\"\n",
    "\n",
    "import os\n",
    "import sys\n",
    "\n",
    "import pytest\n",
    "from src.utils import configure_logging\n",
    "\n",
    "logger = configure_logging(\"Hotel Reservations Unit test\")\n",
    "\n",
    "# Get the path to this notebook, for example \"/Workspace/Repos/{username}/{repo-name}\".\n",
    "notebook_path = dbutils.notebook.entry_point.getDbutils().notebook().getContext().notebookPath().get()  # noqa: F821\n",
    "\n",
    "# Get the repo's root directory name.\n",
    "repo_root = os.path.dirname(os.path.dirname(notebook_path))\n",
    "\n",
    "# Prepare to run pytest from the repo.\n",
    "os.chdir(f\"/Workspace/{repo_root}\")\n",
    "\n",
    "# Skip writing pyc files on a readonly filesystem.\n",
    "sys.dont_write_bytecode = True\n",
    "\n",
    "# Run pytest.\n",
    "retcode = pytest.main([\"./tests/\", \"-vv\", \"-p\", \"no:cacheprovider\"])\n",
    "\n",
    "# Fail the cell execution if there are any test failures.\n",
    "assert retcode == 0, \"The pytest invocation failed. See the log for details.\"\n",
    "logger.error(\"The pytest invocation failed. See the log for details.\")"
   ]
  }
 ],
 "metadata": {
  "application/vnd.databricks.v1+notebook": {
   "computePreferences": null,
   "dashboards": [],
   "environmentMetadata": {
    "base_environment": "",
    "environment_version": "2"
   },
   "language": "python",
   "notebookMetadata": {
    "pythonIndentUnit": 4
   },
   "notebookName": "pytest",
   "widgets": {}
  },
  "language_info": {
   "name": "python"
  }
 },
 "nbformat": 4,
 "nbformat_minor": 0
}
