{
 "cells": [
  {
   "cell_type": "code",
   "execution_count": null,
   "metadata": {
    "vscode": {
     "languageId": "plaintext"
    }
   },
   "outputs": [],
   "source": [
    "import time\n",
    "\n",
    "from databricks.sdk import WorkspaceClient\n",
    "from databricks.sdk.service import sql\n",
    "\n",
    "w = WorkspaceClient()\n",
    "\n",
    "srcs = w.data_sources.list()\n",
    "\n",
    "\n",
    "alert_query = \"\"\"\n",
    "SELECT \n",
    "  (COUNT(CASE WHEN mean_absolute_error > 70000 THEN 1 END) * 100.0 / COUNT(CASE WHEN mean_absolute_error IS NOT NULL AND NOT isnan(mean_absolute_error) THEN 1 END)) AS percentage_higher_than_70000\n",
    "FROM mlops_prod.house_prices.model_monitoring_profile_metrics\"\"\"\n",
    "\n",
    "\n",
    "query = w.queries.create(query=sql.CreateQueryRequestQuery(display_name=f'house-price-alert-query-{time.time_ns()}',\n",
    "                                                           warehouse_id=srcs[0].warehouse_id,\n",
    "                                                           description=\"Alert on house price model MAE\",\n",
    "                                                           query_text=alert_query))\n",
    "\n",
    "alert = w.alerts.create(\n",
    "    alert=sql.CreateAlertRequestAlert(condition=sql.AlertCondition(operand=sql.AlertConditionOperand(\n",
    "        column=sql.AlertOperandColumn(name=\"percentage_higher_than_70000\")),\n",
    "            op=sql.AlertOperator.GREATER_THAN,\n",
    "            threshold=sql.AlertConditionThreshold(\n",
    "                value=sql.AlertOperandValue(\n",
    "                    double_value=45))),\n",
    "            display_name=f'house-price-mae-alert-{time.time_ns()}',\n",
    "            query_id=query.id\n",
    "        )\n",
    "    )\n",
    "\n",
    "\n",
    "# cleanup\n",
    "w.queries.delete(id=query.id)\n",
    "w.alerts.delete(id=alert.id)"
   ]
  }
 ],
 "metadata": {
  "language_info": {
   "name": "python"
  }
 },
 "nbformat": 4,
 "nbformat_minor": 2
}
