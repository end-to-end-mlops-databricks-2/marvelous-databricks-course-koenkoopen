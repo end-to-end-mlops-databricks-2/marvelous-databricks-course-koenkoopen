{
 "cells": [
  {
   "cell_type": "code",
   "execution_count": 0,
   "metadata": {
    "application/vnd.databricks.v1+cell": {
     "cellMetadata": {
      "byteLimit": 2048000,
      "rowLimit": 10000
     },
     "inputWidgets": {},
     "nuid": "241cc0a1-629d-459d-b948-9c8165d94e71",
     "showTitle": false,
     "tableResultSettingsMap": {},
     "title": ""
    },
    "vscode": {
     "languageId": "plaintext"
    }
   },
   "outputs": [],
   "source": [
    "import time\n",
    "\n",
    "from databricks.sdk import WorkspaceClient\n",
    "from databricks.sdk.service import sql\n",
    "from pyspark.sql import SparkSession\n",
    "\n",
    "from hotel_reservation.config import ProjectConfig\n",
    "\n",
    "# Load configuration\n",
    "config = ProjectConfig.from_yaml(config_path=\"../project_config.yml\", env=\"dev\")\n",
    "spark = SparkSession.builder.getOrCreate()\n",
    "\n",
    "w = WorkspaceClient()\n",
    "\n",
    "srcs = w.data_sources.list()\n",
    "\n",
    "\n",
    "alert_query = f\"\"\"\n",
    "SELECT \n",
    "  (COUNT(CASE WHEN mean_absolute_error > 70000 THEN 1 END) * 100.0 / COUNT(CASE WHEN mean_absolute_error IS NOT NULL AND NOT isnan(mean_absolute_error) THEN 1 END)) AS percentage_higher_than_70000\n",
    "FROM {config.catalog_name}.{config.schema_name}.model_monitoring_profile_metrics\"\"\"\n",
    "\n",
    "\n",
    "query = w.queries.create(query=sql.CreateQueryRequestQuery(display_name=f'hotel-reservation-alert-query-{time.time_ns()}',\n",
    "                                                           warehouse_id=srcs[0].warehouse_id,\n",
    "                                                           description=\"Alert on hotel reservation model MAE\",\n",
    "                                                           query_text=alert_query))\n",
    "\n",
    "alert = w.alerts.create(\n",
    "    alert=sql.CreateAlertRequestAlert(condition=sql.AlertCondition(operand=sql.AlertConditionOperand(\n",
    "        column=sql.AlertOperandColumn(name=\"percentage_higher_than_70000\")),\n",
    "            op=sql.AlertOperator.GREATER_THAN,\n",
    "            threshold=sql.AlertConditionThreshold(\n",
    "                value=sql.AlertOperandValue(\n",
    "                    double_value=45))),\n",
    "            display_name=f'hotel-reservation-mae-alert-{time.time_ns()}',\n",
    "            query_id=query.id\n",
    "        )\n",
    "    )\n",
    "\n",
    "\n",
    "# cleanup\n",
    "w.queries.delete(id=query.id)\n",
    "w.alerts.delete(id=alert.id)"
   ]
  }
 ],
 "metadata": {
  "application/vnd.databricks.v1+notebook": {
   "computePreferences": null,
   "dashboards": [],
   "environmentMetadata": null,
   "language": "python",
   "notebookMetadata": {
    "pythonIndentUnit": 4
   },
   "notebookName": "05.02_create_alert",
   "widgets": {}
  },
  "language_info": {
   "name": "python"
  }
 },
 "nbformat": 4,
 "nbformat_minor": 0
}
