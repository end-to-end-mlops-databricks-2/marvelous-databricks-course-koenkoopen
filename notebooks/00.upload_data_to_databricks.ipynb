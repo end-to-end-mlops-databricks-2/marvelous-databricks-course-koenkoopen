{
 "cells": [
  {
   "cell_type": "code",
   "execution_count": 0,
   "metadata": {
    "application/vnd.databricks.v1+cell": {
     "cellMetadata": {
      "byteLimit": 2048000,
      "rowLimit": 10000
     },
     "inputWidgets": {},
     "nuid": "0fd2effa-8d35-4e21-b1fe-a51ed82eb2c3",
     "showTitle": false,
     "tableResultSettingsMap": {},
     "title": ""
    },
    "vscode": {
     "languageId": "plaintext"
    }
   },
   "outputs": [],
   "source": [
    "from pyspark.sql import SparkSession\n",
    "\n",
    "# Initialize Spark session\n",
    "spark = SparkSession.builder.appName(\"HotelReservations\").getOrCreate()\n",
    "# Set the catalog and schema context\n",
    "spark.sql(\"USE CATALOG koen_dev\")\n",
    "spark.sql(\"USE gold_hotel_reservations\")\n",
    "# Read the CSV file\n",
    "df = spark.read.csv(\"/Volumes/koen_dev/gold_hotel_reservations/landingzone/Hotel Reservations.csv\", header=True, inferSchema=True)\n",
    "\n",
    "# Show data\n",
    "df.write.format(\"delta\").mode(\"overwrite\").saveAsTable(\"hotel_reservations\")\n"
   ]
  },
  {
   "cell_type": "code",
   "execution_count": 0,
   "metadata": {
    "application/vnd.databricks.v1+cell": {
     "cellMetadata": {
      "byteLimit": 2048000,
      "rowLimit": 10000
     },
     "inputWidgets": {},
     "nuid": "ded5611b-4ed7-4bb7-8a19-2e72eab4e0f1",
     "showTitle": false,
     "tableResultSettingsMap": {},
     "title": ""
    }
   },
   "outputs": [],
   "source": [
    "from pyspark.sql import SparkSession\n",
    "\n",
    "# Initialize Spark session\n",
    "spark = SparkSession.builder.appName(\"HotelReservations\").getOrCreate()\n",
    "# Set the catalog and schema context\n",
    "spark.sql(\"USE CATALOG koen_acc\")\n",
    "spark.sql(\"USE gold_hotel_reservations\")\n",
    "# Read the CSV file\n",
    "df = spark.read.csv(\"dbfs:/Volumes/koen_acc/gold_hotel_reservations/landingzone\", header=True, inferSchema=True)\n",
    "\n",
    "# Show data\n",
    "df.write.format(\"delta\").mode(\"overwrite\").saveAsTable(\"hotel_reservations\")"
   ]
  },
  {
   "cell_type": "code",
   "execution_count": 0,
   "metadata": {
    "application/vnd.databricks.v1+cell": {
     "cellMetadata": {
      "byteLimit": 2048000,
      "rowLimit": 10000
     },
     "inputWidgets": {},
     "nuid": "3e061b7f-a0cf-4a23-b810-c92bfc1b5c27",
     "showTitle": false,
     "tableResultSettingsMap": {},
     "title": ""
    }
   },
   "outputs": [],
   "source": [
    "from pyspark.sql import SparkSession\n",
    "\n",
    "# Initialize Spark session\n",
    "spark = SparkSession.builder.appName(\"HotelReservations\").getOrCreate()\n",
    "# Set the catalog and schema context\n",
    "spark.sql(\"USE CATALOG koen_prd\")\n",
    "spark.sql(\"USE gold_hotel_reservations\")\n",
    "# Read the CSV file\n",
    "df = spark.read.csv(\"dbfs:/Volumes/koen_prd/gold_hotel_reservations/landingzone\", header=True, inferSchema=True)\n",
    "\n",
    "# Show data\n",
    "df.write.format(\"delta\").mode(\"overwrite\").saveAsTable(\"hotel_reservations\")"
   ]
  }
 ],
 "metadata": {
  "application/vnd.databricks.v1+notebook": {
   "computePreferences": null,
   "dashboards": [],
   "environmentMetadata": null,
   "language": "python",
   "notebookMetadata": {
    "pythonIndentUnit": 4
   },
   "notebookName": "00.upload_data_to_databricks",
   "widgets": {}
  },
  "language_info": {
   "name": "python"
  }
 },
 "nbformat": 4,
 "nbformat_minor": 0
}
