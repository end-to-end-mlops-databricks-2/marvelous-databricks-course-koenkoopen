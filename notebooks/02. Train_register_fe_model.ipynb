{
 "cells": [
  {
   "cell_type": "code",
   "execution_count": 0,
   "metadata": {
    "application/vnd.databricks.v1+cell": {
     "cellMetadata": {
      "byteLimit": 2048000,
      "rowLimit": 10000
     },
     "inputWidgets": {},
     "nuid": "efef0553-c581-4521-a4e9-635a1fce3ff9",
     "showTitle": false,
     "tableResultSettingsMap": {},
     "title": ""
    }
   },
   "outputs": [],
   "source": [
    "%pip install databricks-feature-engineering==0.6 databricks-feature-lookup==1.2.0 databricks-sdk==0.32.0"
   ]
  },
  {
   "cell_type": "code",
   "execution_count": 0,
   "metadata": {
    "application/vnd.databricks.v1+cell": {
     "cellMetadata": {
      "byteLimit": 2048000,
      "rowLimit": 10000
     },
     "inputWidgets": {},
     "nuid": "00092525-d8fb-4858-89ac-9f8ee9a9ca0c",
     "showTitle": false,
     "tableResultSettingsMap": {},
     "title": ""
    }
   },
   "outputs": [],
   "source": [
    "import mlflow\n",
    "from pyspark.sql import SparkSession\n",
    "\n",
    "from hotel_reservation.config import ProjectConfig, Tags\n",
    "from hotel_reservation.models.feature_lookup_model import FeatureLookUpModel\n",
    "\n",
    "# Configure tracking uri\n",
    "mlflow.set_tracking_uri(\"databricks\")\n",
    "mlflow.set_registry_uri(\"databricks-uc\")\n",
    "config = ProjectConfig.from_yaml(config_path=\"../project_config.yml\")\n",
    "spark = SparkSession.builder.getOrCreate()\n",
    "tags_dict = {\"git_sha\": \"76a814cc74fb4a7d2a5cffbc6d803dec886c8cc3\", \"branch\": \"feature/week2_train_register_model\"}\n",
    "tags = Tags(**tags_dict)"
   ]
  },
  {
   "cell_type": "code",
   "execution_count": 0,
   "metadata": {
    "application/vnd.databricks.v1+cell": {
     "cellMetadata": {
      "byteLimit": 2048000,
      "rowLimit": 10000
     },
     "inputWidgets": {},
     "nuid": "6296fdee-9b5b-49e5-93c6-7accb56e6283",
     "showTitle": false,
     "tableResultSettingsMap": {},
     "title": ""
    }
   },
   "outputs": [],
   "source": [
    "# Initialize model\n",
    "fe_model = FeatureLookUpModel(config=config, tags=tags, spark=spark)\n",
    "# Create feature table\n",
    "fe_model.create_feature_table()\n",
    "\n",
    "# Define house age feature function\n",
    "fe_model.define_feature_function()\n",
    "\n",
    "# Load data\n",
    "fe_model.load_data()\n",
    "\n",
    "# Perform feature engineering\n",
    "fe_model.feature_engineering()"
   ]
  },
  {
   "cell_type": "code",
   "execution_count": 0,
   "metadata": {
    "application/vnd.databricks.v1+cell": {
     "cellMetadata": {},
     "inputWidgets": {},
     "nuid": "f8cffd0d-d2d4-4949-9f0a-0e5486ed5583",
     "showTitle": false,
     "tableResultSettingsMap": {},
     "title": ""
    }
   },
   "outputs": [],
   "source": [
    "# Train the model\n",
    "fe_model.train()\n",
    "\n",
    "# Register the model\n",
    "fe_model.register_model()"
   ]
  }
 ],
 "metadata": {
  "application/vnd.databricks.v1+notebook": {
   "computePreferences": null,
   "dashboards": [],
   "environmentMetadata": {
    "base_environment": "",
    "environment_version": "2"
   },
   "language": "python",
   "notebookMetadata": {
    "pythonIndentUnit": 4
   },
   "notebookName": "02. Train_register_fe_model",
   "widgets": {}
  },
  "language_info": {
   "name": "python"
  }
 },
 "nbformat": 4,
 "nbformat_minor": 0
}
