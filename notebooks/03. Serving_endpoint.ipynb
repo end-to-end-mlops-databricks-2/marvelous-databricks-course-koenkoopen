{
 "cells": [
  {
   "cell_type": "code",
   "execution_count": null,
   "metadata": {
    "vscode": {
     "languageId": "plaintext"
    }
   },
   "outputs": [],
   "source": [
    "from house_price.config import ProjectConfig\n",
    "from house_price.serving.fe_model_serving import FeatureLookupServing\n",
    "\n",
    "# Load project config\n",
    "config = ProjectConfig.from_yaml(config_path=\"../project_config.yml\")\n"
   ]
  }
 ],
 "metadata": {
  "language_info": {
   "name": "python"
  }
 },
 "nbformat": 4,
 "nbformat_minor": 2
}
