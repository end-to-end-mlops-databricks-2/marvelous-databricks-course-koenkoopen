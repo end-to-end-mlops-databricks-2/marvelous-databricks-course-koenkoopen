{
 "cells": [
  {
   "cell_type": "code",
   "execution_count": 0,
   "metadata": {
    "application/vnd.databricks.v1+cell": {
     "cellMetadata": {
      "byteLimit": 2048000,
      "rowLimit": 10000
     },
     "inputWidgets": {},
     "nuid": "f8a1a528-186e-4488-9a7a-639faa2429c8",
     "showTitle": false,
     "tableResultSettingsMap": {},
     "title": ""
    }
   },
   "outputs": [],
   "source": [
    "%pip install databricks-feature-engineering==0.6 databricks-sdk==0.32.0\n",
    "%restart_python"
   ]
  },
  {
   "cell_type": "code",
   "execution_count": 0,
   "metadata": {
    "application/vnd.databricks.v1+cell": {
     "cellMetadata": {
      "byteLimit": 2048000,
      "rowLimit": 10000
     },
     "inputWidgets": {},
     "nuid": "0ca68dbc-fc1d-4ace-94fe-79682c8c84e3",
     "showTitle": false,
     "tableResultSettingsMap": {},
     "title": ""
    },
    "vscode": {
     "languageId": "plaintext"
    }
   },
   "outputs": [],
   "source": [
    "import os\n",
    "\n",
    "from src.hotel_reservation.config import ProjectConfig\n",
    "from src.hotel_reservation.serving.fe_model_serving import FeatureLookupServing\n",
    "from src.hotel_reservation.utils import configure_logging\n",
    "\n",
    "logger = configure_logging(\"Hotel Reservations Deploy Model\")\n",
    "\n",
    "# Load project config\\n\",\n",
    "config = ProjectConfig.from_yaml(config_path=\"../project_config.yml\")\n",
    "logger.info(\"Configuration loaded\")\n",
    "\n",
    "# Initialize feature store manager\\n\",\n",
    "feature_serving_manager = FeatureLookupServing(\n",
    "    model_name=f\"{config.catalog_name}.{config.schema_name}.hotel_reservation_model\",\n",
    "    endpoint_name=\"hotel_reservation_endpoint\",\n",
    "    feature_table_name=f\"{config.catalog_name}.{config.schema_name}.hotel_reservation_features\"\n",
    ")\n",
    "\n",
    "# Create online table\n",
    "feature_serving_manager.create_online_table()\n",
    "# Deploy feature serving endpoint,\n",
    "feature_serving_manager.deploy_or_update_serving_endpoint()\n",
    "logger.info(\"Created feature serving endpoint.\")\n",
    "\n",
    "# Create a sample request body\n",
    "required_columns = [\n",
    "    \"type_of_meal_plan\",\n",
    "    \"room_type_reserved\",\n",
    "    \"market_segment_type\",\n",
    "    \"no_of_weekend_nights\",\n",
    "    \"no_of_week_nights\",\n",
    "    \"required_car_parking_space\",\n",
    "    \"lead_time\",\n",
    "    \"arrival_year\",\n",
    "    \"arrival_month\",\n",
    "    \"arrival_date\",\n",
    "    \"repeated_guest\",\n",
    "    \"no_of_previous_cancellations\",\n",
    "    \"no_of_previous_bookings_not_canceled\",\n",
    "    \"no_of_special_requests\",\n",
    "    \"Booking_ID\",\n",
    "    \"quarter\",\n",
    "    \"no_of_adults\",\n",
    "    \"no_of_children\",\n",
    "    \"avg_price_per_room\",\n",
    "    \"cancellation_probability\",\n",
    "]\n",
    "train_set = spark.table(f\"{config.catalog_name}.{config.schema_name}.train_dataset\").toPandas()  # noqa: F821\",\n",
    "train_set[\"cancellation_probability\"] = (\n",
    "    train_set[\"no_of_previous_cancellations\"] / train_set[\"no_of_previous_bookings_not_canceled\"]\n",
    ")\n",
    "\n",
    "train_set = train_set.fillna(0)\n",
    "train_set = train_set.replace([float(\"inf\"), float(\"-inf\")], 0)\n",
    "train_set[\"cancellation_probability\"] = train_set[\"cancellation_probability\"].astype(int)\n",
    "sampled_records = train_set[required_columns].sample(n=1000, replace=True).to_dict(orient=\"split\")\n",
    "\n",
    "# Call the endpoint with one sample record\\n\",\n",
    "os.environ[\"DBR_TOKEN\"] = dbutils.notebook.entry_point.getDbutils().notebook().getContext().apiToken().get()  # noqa: F821\n",
    "os.environ[\"DBR_HOST\"] = spark.conf.get(\"spark.databricks.workspaceUrl\")  # noqa: F821\n",
    "\n",
    "# status_code, response_text = feature_serving_manager.call_endpoint(\n",
    "#     sampled_records[\"data\"], columns=sampled_records[\"columns\"]\n",
    "# )\n",
    "# logger.info(f\"Response Status: {status_code}\")\n",
    "# logger.info(f\"Response Text: {response_text}\")"
   ]
  }
 ],
 "metadata": {
  "application/vnd.databricks.v1+notebook": {
   "computePreferences": null,
   "dashboards": [],
   "environmentMetadata": null,
   "language": "python",
   "notebookMetadata": {
    "pythonIndentUnit": 4
   },
   "notebookName": "03. Serving_endpoint",
   "widgets": {}
  },
  "language_info": {
   "name": "python"
  }
 },
 "nbformat": 4,
 "nbformat_minor": 0
}
