{
 "cells": [
  {
   "cell_type": "code",
   "execution_count": 0,
   "metadata": {
    "application/vnd.databricks.v1+cell": {
     "cellMetadata": {
      "byteLimit": 2048000,
      "rowLimit": 10000
     },
     "inputWidgets": {},
     "nuid": "23a65431-12f1-4884-854d-7730fb411c9b",
     "showTitle": false,
     "tableResultSettingsMap": {},
     "title": ""
    }
   },
   "outputs": [],
   "source": [
    "%pip install databricks-feature-engineering==0.6 databricks-sdk==0.32.0\n",
    "%restart_python"
   ]
  },
  {
   "cell_type": "code",
   "execution_count": 0,
   "metadata": {
    "application/vnd.databricks.v1+cell": {
     "cellMetadata": {
      "byteLimit": 2048000,
      "rowLimit": 10000
     },
     "inputWidgets": {},
     "nuid": "62fe0c26-4738-416e-a123-a998341d01af",
     "showTitle": false,
     "tableResultSettingsMap": {},
     "title": ""
    }
   },
   "outputs": [],
   "source": [
    "import mlflow\n",
    "from pyspark.sql import SparkSession\n",
    "\n",
    "from hotel_reservation.config import ProjectConfig, Tags\n",
    "from hotel_reservation.models.feature_lookup_model import FeatureLookUpModel\n",
    "from hotel_reservation.utils import configure_logging\n",
    "\n",
    "# Configure tracking uri\n",
    "mlflow.set_tracking_uri(\"databricks\")\n",
    "mlflow.set_registry_uri(\"databricks-uc\")\n",
    "\n",
    "logger = configure_logging(\"Hotel Reservations Model Training\")\n",
    "\n",
    "config = ProjectConfig.from_yaml(config_path=\"../project_config.yml\")\n",
    "logger.info(\"Configuration loaded\")\n",
    "spark = SparkSession.builder.getOrCreate()\n",
    "tags_dict = {\"git_sha\": \"4ce0950880b6fdade547501027c83efd6bc5ed86\", \"branch\": \"feature/week3_serving_endpoint\"}\n",
    "\n",
    "tags = Tags(**tags_dict)\n",
    "\n",
    "# Initialize model\n",
    "fe_model = FeatureLookUpModel(\n",
    "    config=config, tags=tags, spark=spark, code_path=[\"../dist/hotel_reservation-0.1.0-py3-none-any.whl\"]\n",
    ")"
   ]
  },
  {
   "cell_type": "code",
   "execution_count": 0,
   "metadata": {
    "application/vnd.databricks.v1+cell": {
     "cellMetadata": {
      "byteLimit": 2048000,
      "rowLimit": 10000
     },
     "inputWidgets": {},
     "nuid": "c8eab13d-e41a-46df-99b5-1b545f9f5ad1",
     "showTitle": false,
     "tableResultSettingsMap": {},
     "title": ""
    }
   },
   "outputs": [],
   "source": [
    "# Create feature table\n",
    "fe_model.create_feature_table()\n",
    "\n",
    "# Define house age feature function\n",
    "fe_model.define_feature_function()\n",
    "\n",
    "# Load data\n",
    "fe_model.load_data()\n",
    "\n",
    "# Perform feature engineering\n",
    "fe_model.feature_engineering()\n",
    "\n",
    "# Train the model\n",
    "fe_model.train()\n",
    "\n",
    "# Register the model\n",
    "fe_model.register_model()"
   ]
  }
 ],
 "metadata": {
  "application/vnd.databricks.v1+notebook": {
   "computePreferences": null,
   "dashboards": [],
   "environmentMetadata": {
    "base_environment": "",
    "environment_version": "2"
   },
   "language": "python",
   "notebookMetadata": {
    "pythonIndentUnit": 4
   },
   "notebookName": "02. Train_and_register_model",
   "widgets": {}
  },
  "language_info": {
   "name": "python"
  }
 },
 "nbformat": 4,
 "nbformat_minor": 0
}
